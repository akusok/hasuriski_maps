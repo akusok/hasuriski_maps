{
 "cells": [
  {
   "cell_type": "code",
   "execution_count": 7,
   "id": "ca80f0fc-cc88-4d19-807e-7a7eaae4eb72",
   "metadata": {},
   "outputs": [],
   "source": [
    "import os\n",
    "from PIL import Image\n",
    "import numpy as np\n",
    "\n",
    "from matplotlib import pyplot as plt\n",
    "\n",
    "from multiprocessing import Pool"
   ]
  },
  {
   "cell_type": "code",
   "execution_count": 2,
   "id": "cfa0631f-d986-4f91-89fa-13c632586515",
   "metadata": {},
   "outputs": [],
   "source": [
    "COLUMNS = [\n",
    "    \"elevation\", \n",
    "    \"aspect\", \n",
    "    \"aem_imag\", \n",
    "    \"aem_real\", \n",
    "    \"landsat_0\", \n",
    "    \"landsat_1\", \n",
    "    \"landsat_2\", \n",
    "    \"NDVI\", \n",
    "    \"TPI\", \n",
    "    \"TWI\", \n",
    "    \"TRI\",\n",
    "]\n",
    "\n",
    "disk_path = \"/Volumes/hasuriski 1/LAYERS_15\"\n",
    "out_folder = \"combined_data\"\n",
    "\n",
    "mX = np.array([74, 0, -1, 35, 9, 23, 0, 40, -2, 50, 5])\n",
    "sX = np.array([40, 70, 80, 60, 75, 65, 50, 20, 20, 35, 0.2])"
   ]
  },
  {
   "cell_type": "code",
   "execution_count": 4,
   "id": "29344271-430e-4b33-bec5-4c3c87298087",
   "metadata": {},
   "outputs": [],
   "source": [
    "def get_img_pixels(prefix, z, x, y, gray=True):\n",
    "    path = f\"{disk_path}/{prefix}/{z}/{x}/{y}.png\"\n",
    "    img = Image.open(path)\n",
    "    data = np.array(img).reshape(256*256, -1)\n",
    "    return data[:, 0: 1 if gray else 3]"
   ]
  },
  {
   "cell_type": "code",
   "execution_count": 5,
   "id": "1d4391b0-f895-4387-b27d-781b35acc60f",
   "metadata": {},
   "outputs": [],
   "source": [
    "def get_combined_pixels(z, x, y): \n",
    "    x_elevation = get_img_pixels(\"elev_10m\", z, x, y)\n",
    "    x_aspect = get_img_pixels(\"elev_10m_aspect\", z, x, y)\n",
    "    x_aem_imag = get_img_pixels(\"aem_imaginary_component\", z, x, y)\n",
    "    x_aem_real = get_img_pixels(\"aem_real_component\", z, x, y)\n",
    "    x_landsat = get_img_pixels(\"landsat\", z, x, y, gray=False)\n",
    "    x_NDVI = get_img_pixels(\"NDVI_max\", z, x, y)\n",
    "    x_TPI = get_img_pixels(\"TPI\", z, x, y)\n",
    "    x_TWI = get_img_pixels(\"TWI\", z, x, y)\n",
    "    x_TRI = get_img_pixels(\"TRI\", z, x, y)\n",
    "\n",
    "    return np.hstack([\n",
    "        x_elevation,\n",
    "        x_aspect,\n",
    "        x_aem_imag,\n",
    "        x_aem_real,\n",
    "        x_landsat,\n",
    "        x_NDVI,\n",
    "        x_TPI,\n",
    "        x_TWI,\n",
    "        x_TRI,\n",
    "    ])"
   ]
  },
  {
   "cell_type": "code",
   "execution_count": 6,
   "id": "ebadb518-04f9-4b02-8562-7c8ef0c80b53",
   "metadata": {},
   "outputs": [],
   "source": [
    "def get_data(z, x, y):\n",
    "    pX = get_combined_pixels(z, x, y).astype(\"float32\")\n",
    "    pX -= 128\n",
    "    pX[:, 10] = np.log(256 - pX[:,10])\n",
    "    pX -= mX\n",
    "    pX /= sX\n",
    "    pX = np.clip(pX, -5, 5)\n",
    "    return pX"
   ]
  },
  {
   "cell_type": "markdown",
   "id": "08fa1c73-2c5d-4cc3-8872-db70597df767",
   "metadata": {},
   "source": [
    "## Test"
   ]
  },
  {
   "cell_type": "code",
   "execution_count": 3,
   "id": "cf1880a8-606c-4dee-acfd-a2bfde5bd040",
   "metadata": {},
   "outputs": [],
   "source": [
    "z,x,y = 6,36,18"
   ]
  },
  {
   "cell_type": "code",
   "execution_count": 7,
   "id": "50e85513-9da5-4215-aae2-ab839858f28e",
   "metadata": {},
   "outputs": [],
   "source": [
    "d = get_data(z, x, y)"
   ]
  },
  {
   "cell_type": "code",
   "execution_count": 8,
   "id": "613e0451-3e66-4edb-823b-858463aa1635",
   "metadata": {},
   "outputs": [
    {
     "data": {
      "text/plain": [
       "(dtype('float32'), (65536, 11))"
      ]
     },
     "execution_count": 8,
     "metadata": {},
     "output_type": "execute_result"
    }
   ],
   "source": [
    "d.dtype, d.shape"
   ]
  },
  {
   "cell_type": "code",
   "execution_count": 9,
   "id": "42ba5ce8-be0e-42c9-98ff-5f26d688306e",
   "metadata": {},
   "outputs": [],
   "source": [
    "f_out = f\"{disk_path}/{out_folder}/{z}/{x}/{y}.npy\"\n",
    "os.makedirs(os.path.dirname(f_out), exist_ok=True)\n",
    "np.save(f_out, d)"
   ]
  },
  {
   "cell_type": "markdown",
   "id": "977cc102-ee0e-46ad-9c4a-6b79ea856f58",
   "metadata": {},
   "source": [
    "## Fill some data"
   ]
  },
  {
   "cell_type": "code",
   "execution_count": 8,
   "id": "557a3a04-4b16-4a1a-aafa-198c700c1046",
   "metadata": {},
   "outputs": [],
   "source": [
    "z_level = 2\n",
    "\n",
    "tasks = []\n",
    "for root,_,files in os.walk(f\"/Volumes/hasuriski 1/LAYERS_15/elev_10m/{z_level}\"):\n",
    "    for f in files:\n",
    "        if not f.endswith(\".png\"):\n",
    "            continue\n",
    "            \n",
    "        f_in = os.path.join(root, f)\n",
    "        z, x, y = [int(a.replace(\".png\", \"\")) for a in f_in.split(\"/\")[-3:]]\n",
    "\n",
    "        f_out = f\"{disk_path}/{out_folder}/{z}/{x}/{y}.npy\"\n",
    "        if os.path.isfile(f_out):\n",
    "            continue\n",
    "\n",
    "        tasks.append((z, x, y))"
   ]
  },
  {
   "cell_type": "code",
   "execution_count": null,
   "id": "86eb9f11-3df1-4ce8-86c4-786edd5674ab",
   "metadata": {},
   "outputs": [],
   "source": [
    "with Pool(8) as p:\n",
    "\n",
    "    def foo(a):\n",
    "        z, x, y = a\n",
    "        f_out = f\"{disk_path}/{out_folder}/{z}/{x}/{y}.npy\"\n",
    "        os.makedirs(os.path.dirname(f_out), exist_ok=True)\n",
    "        d = get_data(z, x, y)\n",
    "        print(\"saving \", f_out)\n",
    "        np.save(f_out, d)\n",
    "        \n",
    "    p.map(foo, tasks)"
   ]
  },
  {
   "cell_type": "code",
   "execution_count": null,
   "id": "cea754f7-a0b8-48fb-9c2a-d90b39111c9f",
   "metadata": {},
   "outputs": [],
   "source": []
  }
 ],
 "metadata": {
  "kernelspec": {
   "display_name": "Python 3 (ipykernel)",
   "language": "python",
   "name": "python3"
  },
  "language_info": {
   "codemirror_mode": {
    "name": "ipython",
    "version": 3
   },
   "file_extension": ".py",
   "mimetype": "text/x-python",
   "name": "python",
   "nbconvert_exporter": "python",
   "pygments_lexer": "ipython3",
   "version": "3.11.5"
  }
 },
 "nbformat": 4,
 "nbformat_minor": 5
}
